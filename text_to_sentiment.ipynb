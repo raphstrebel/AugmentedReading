{
 "cells": [
  {
   "cell_type": "code",
   "execution_count": null,
   "metadata": {},
   "outputs": [],
   "source": [
    "# Set auto-reload \\n\",\n",
    "%load_ext autoreload\\n\n",
    "%autoreload 2"
   ]
  },
  {
   "cell_type": "code",
   "execution_count": 98,
   "metadata": {},
   "outputs": [
    {
     "name": "stderr",
     "output_type": "stream",
     "text": [
      "[nltk_data] Downloading package wordnet to\n",
      "[nltk_data]     /Users/raphaelstrebel/nltk_data...\n",
      "[nltk_data]   Package wordnet is already up-to-date!\n"
     ]
    }
   ],
   "source": [
    "file = open(\"harry potter.txt\",\"r\") "
   ]
  },
  {
   "cell_type": "code",
   "execution_count": 2,
   "metadata": {},
   "outputs": [
    {
     "data": {
      "text/plain": [
       "'“She’s still alive,” said Riddle. “But only just.”Harry stared at him. Tom Riddle had been at Hogwarts fifty years ago, yet here he stood, a weird, misty light shining about him, not a day older than sixteen.“Are you a ghost?” Harry said uncertainly.“A memory,” said Riddle quietly. “Preserved in a diary for fifty years.”He pointed toward the floor near the statue’s giant toes. Lying open there was the little black diary Harry had found in Moaning Myrtle’s bathroom. For a second, Harry wondered how it had got there — but there were more pressing matters to deal with.“You’ve got to help me, Tom,” Harry said, raising Ginny’s head again. “We’ve got to get her out of here. There’s a basilisk… I don’t know where it is, but it could be along any moment…Please, help me.”Riddle didn’t move. Harry, sweating, managed to hoist Ginny half off the floor, and bent to pickup his wand again.But his wand had gone.“Did you see —?”He looked up. Riddle was still watching him — twirling Harry’s wand between his long fingers.“Thanks,” said Harry, stretching out his hand for it.A smile curled the corners of Riddle’s mouth. He continued to stare at Harry, twirling the wand idly.“Listen,” said Harry urgently, his knees sagging with Ginny’s dead weight. “We’ve got to go! If the basilisk comes —”“It won’t come until it is called,” said Riddle calmly.Harry lowered Ginny back onto the floor, unable to hold her up any longer.“What d’you mean?” he said. “Look, give me my wand, I might need it —”Riddle’s smile broadened.“You won’t be needing it,” he said.Harry stared at him. '"
      ]
     },
     "execution_count": 2,
     "metadata": {},
     "output_type": "execute_result"
    }
   ],
   "source": [
    "text = file.readlines()\n",
    "text = text[0]\n",
    "\n",
    "text"
   ]
  },
  {
   "cell_type": "code",
   "execution_count": 3,
   "metadata": {},
   "outputs": [
    {
     "name": "stderr",
     "output_type": "stream",
     "text": [
      "[nltk_data] Downloading package wordnet to\n",
      "[nltk_data]     /Users/raphaelstrebel/nltk_data...\n",
      "[nltk_data]   Package wordnet is already up-to-date!\n"
     ]
    }
   ],
   "source": [
    "import keywords_extraction"
   ]
  },
  {
   "cell_type": "code",
   "execution_count": 4,
   "metadata": {},
   "outputs": [],
   "source": [
    "keywords = keywords_extraction.get_keywords_from_text(text)"
   ]
  },
  {
   "cell_type": "code",
   "execution_count": 95,
   "metadata": {},
   "outputs": [],
   "source": [
    "import pandas as pd\n",
    "\n",
    "word_emotion = pd.read_csv(\"emotion_db.csv\")"
   ]
  },
  {
   "cell_type": "code",
   "execution_count": 98,
   "metadata": {},
   "outputs": [],
   "source": [
    "word_emotion = word_emotion.drop(columns=[\"negative\", \"positive\"])"
   ]
  },
  {
   "cell_type": "code",
   "execution_count": 99,
   "metadata": {},
   "outputs": [
    {
     "data": {
      "text/plain": [
       "anger           2\n",
       "anticipation    4\n",
       "disgust         1\n",
       "fear            3\n",
       "joy             3\n",
       "sadness         5\n",
       "surprise        2\n",
       "trust           5\n",
       "dtype: int64"
      ]
     },
     "execution_count": 99,
     "metadata": {},
     "output_type": "execute_result"
    }
   ],
   "source": [
    "keywords_df = pd.DataFrame(keywords, columns= [\"word\"], dtype=\"str\")\n",
    "keywords_emotion = word_emotion.merge(keywords_df, on=\"word\").drop(columns=\"word\")\n",
    "keywords_emotion.sum(axis=0)"
   ]
  },
  {
   "cell_type": "code",
   "execution_count": null,
   "metadata": {},
   "outputs": [],
   "source": []
  }
 ],
 "metadata": {
  "kernelspec": {
   "display_name": "Python 3",
   "language": "python",
   "name": "python3"
  },
  "language_info": {
   "codemirror_mode": {
    "name": "ipython",
    "version": 3
   },
   "file_extension": ".py",
   "mimetype": "text/x-python",
   "name": "python",
   "nbconvert_exporter": "python",
   "pygments_lexer": "ipython3",
   "version": "3.7.4"
  }
 },
 "nbformat": 4,
 "nbformat_minor": 2
}
