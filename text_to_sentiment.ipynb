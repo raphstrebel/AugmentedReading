{
 "cells": [
  {
   "cell_type": "code",
   "execution_count": 251,
   "metadata": {},
   "outputs": [
    {
     "name": "stdout",
     "output_type": "stream",
     "text": [
      "The autoreload extension is already loaded. To reload it, use:\n",
      "  %reload_ext autoreload\n"
     ]
    }
   ],
   "source": [
    "# Set auto-reload\n",
    "%load_ext autoreload\n",
    "%autoreload 2"
   ]
  },
  {
   "cell_type": "code",
   "execution_count": 252,
   "metadata": {},
   "outputs": [],
   "source": [
    "file = open(\"harry potter.txt\",\"r\") "
   ]
  },
  {
   "cell_type": "code",
   "execution_count": 253,
   "metadata": {},
   "outputs": [],
   "source": [
    "text = file.readlines()\n",
    "text = \" \".join(text)"
   ]
  },
  {
   "cell_type": "code",
   "execution_count": 254,
   "metadata": {},
   "outputs": [],
   "source": [
    "from keywords_extraction import get_keywords_from_text"
   ]
  },
  {
   "cell_type": "code",
   "execution_count": 255,
   "metadata": {},
   "outputs": [],
   "source": [
    "keywords = get_keywords_from_text(text)"
   ]
  },
  {
   "cell_type": "code",
   "execution_count": 256,
   "metadata": {},
   "outputs": [
    {
     "data": {
      "text/plain": [
       "['pretty',\n",
       " 'women',\n",
       " 'wonder',\n",
       " 'secret',\n",
       " 'lie',\n",
       " 'i',\n",
       " 'm',\n",
       " 'cute',\n",
       " 'build',\n",
       " 'suit',\n",
       " 'fashion',\n",
       " 'model',\n",
       " 's',\n",
       " 'size',\n",
       " 'start',\n",
       " 'tell',\n",
       " 'them',\n",
       " 'think',\n",
       " 'i',\n",
       " 'm',\n",
       " 'tell',\n",
       " 'lie',\n",
       " 'say',\n",
       " 'it',\n",
       " 's',\n",
       " 'reach',\n",
       " 'arm',\n",
       " 'span',\n",
       " 'hips',\n",
       " 'stride',\n",
       " 'step',\n",
       " 'curl',\n",
       " 'lips',\n",
       " 'i',\n",
       " 'm',\n",
       " 'woman',\n",
       " 'phenomenally',\n",
       " 'phenomenal',\n",
       " 'woman',\n",
       " 'that',\n",
       " 's',\n",
       " 'me',\n",
       " 'walk',\n",
       " 'room',\n",
       " 'cool',\n",
       " 'please',\n",
       " 'man',\n",
       " 'fellows',\n",
       " 'stand',\n",
       " 'or',\n",
       " 'fall',\n",
       " 'knees',\n",
       " 'swarm',\n",
       " 'around',\n",
       " 'me',\n",
       " 'hive',\n",
       " 'honey',\n",
       " 'be',\n",
       " 'say',\n",
       " 'it',\n",
       " 's',\n",
       " 'fire',\n",
       " 'eye',\n",
       " 'flash',\n",
       " 'teeth',\n",
       " 'swing',\n",
       " 'waist',\n",
       " 'joy',\n",
       " 'feet',\n",
       " 'i',\n",
       " 'm',\n",
       " 'woman',\n",
       " 'phenomenally',\n",
       " 'phenomenal',\n",
       " 'woman',\n",
       " 'that',\n",
       " 's',\n",
       " 'me',\n",
       " 'men',\n",
       " 'wonder',\n",
       " 'see',\n",
       " 'me',\n",
       " 'try',\n",
       " 'much',\n",
       " 'can',\n",
       " 't',\n",
       " 'touch',\n",
       " 'inner',\n",
       " 'mystery',\n",
       " 'try',\n",
       " 'show',\n",
       " 'them',\n",
       " 'say',\n",
       " 'still',\n",
       " 'can',\n",
       " 't',\n",
       " 'see',\n",
       " 'say',\n",
       " 'it',\n",
       " 's',\n",
       " 'arch',\n",
       " 'back',\n",
       " 'sun',\n",
       " 'smile',\n",
       " 'ride',\n",
       " 'breast',\n",
       " 'grace',\n",
       " 'style',\n",
       " 'i',\n",
       " 'm',\n",
       " 'woman',\n",
       " 'phenomenally',\n",
       " 'phenomenal',\n",
       " 'woman',\n",
       " 'that',\n",
       " 's',\n",
       " 'me',\n",
       " 'understand',\n",
       " 'head',\n",
       " 's',\n",
       " 'bow',\n",
       " 'don',\n",
       " 't',\n",
       " 'shout',\n",
       " 'jump',\n",
       " 'about',\n",
       " 'talk',\n",
       " 'real',\n",
       " 'loud',\n",
       " 'see',\n",
       " 'pass',\n",
       " 'ought',\n",
       " 'make',\n",
       " 'proud',\n",
       " 'say',\n",
       " 'it',\n",
       " 's',\n",
       " 'click',\n",
       " 'heel',\n",
       " 'bend',\n",
       " 'hair',\n",
       " 'palm',\n",
       " 'hand',\n",
       " 'need',\n",
       " 'care',\n",
       " 'cause',\n",
       " 'i',\n",
       " 'm',\n",
       " 'woman',\n",
       " 'phenomenally',\n",
       " 'phenomenal',\n",
       " 'woman',\n",
       " 'that',\n",
       " 's',\n",
       " 'me']"
      ]
     },
     "execution_count": 256,
     "metadata": {},
     "output_type": "execute_result"
    }
   ],
   "source": [
    "keywords"
   ]
  },
  {
   "cell_type": "code",
   "execution_count": 257,
   "metadata": {},
   "outputs": [],
   "source": [
    "import pandas as pd\n",
    "\n",
    "word_emotion = pd.read_csv(\"emotion_db.csv\")"
   ]
  },
  {
   "cell_type": "code",
   "execution_count": 258,
   "metadata": {},
   "outputs": [],
   "source": [
    "word_emotion = word_emotion.drop(columns=[\"anticipation\", \"surprise\", \"trust\"])"
   ]
  },
  {
   "cell_type": "code",
   "execution_count": 259,
   "metadata": {},
   "outputs": [
    {
     "data": {
      "text/plain": [
       "anger        2\n",
       "disgust      2\n",
       "fear         1\n",
       "joy          2\n",
       "negative     5\n",
       "positive    10\n",
       "sadness      3\n",
       "dtype: int64"
      ]
     },
     "execution_count": 259,
     "metadata": {},
     "output_type": "execute_result"
    }
   ],
   "source": [
    "keywords_df = pd.DataFrame(keywords, columns= [\"word\"], dtype=\"str\")\n",
    "keywords_emotion = word_emotion.merge(keywords_df, on=\"word\").drop(columns=\"word\")\n",
    "keywords_emotion.sum(axis=0)"
   ]
  },
  {
   "cell_type": "code",
   "execution_count": 260,
   "metadata": {},
   "outputs": [],
   "source": [
    "from themes_dict import colors_count"
   ]
  },
  {
   "cell_type": "code",
   "execution_count": 261,
   "metadata": {},
   "outputs": [
    {
     "data": {
      "text/plain": [
       "({}, {'light': 1})"
      ]
     },
     "execution_count": 261,
     "metadata": {},
     "output_type": "execute_result"
    }
   ],
   "source": [
    "colors_count(keywords)"
   ]
  },
  {
   "cell_type": "code",
   "execution_count": null,
   "metadata": {},
   "outputs": [],
   "source": []
  }
 ],
 "metadata": {
  "kernelspec": {
   "display_name": "Python 3",
   "language": "python",
   "name": "python3"
  },
  "language_info": {
   "codemirror_mode": {
    "name": "ipython",
    "version": 3
   },
   "file_extension": ".py",
   "mimetype": "text/x-python",
   "name": "python",
   "nbconvert_exporter": "python",
   "pygments_lexer": "ipython3",
   "version": "3.7.4"
  }
 },
 "nbformat": 4,
 "nbformat_minor": 2
}
