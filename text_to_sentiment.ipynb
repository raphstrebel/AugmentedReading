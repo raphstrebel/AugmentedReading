{
 "cells": [
  {
   "cell_type": "code",
   "execution_count": 152,
   "metadata": {},
   "outputs": [
    {
     "name": "stderr",
     "output_type": "stream",
     "text": [
      "[nltk_data] Downloading package wordnet to\n",
      "[nltk_data]     /Users/raphaelstrebel/nltk_data...\n",
      "[nltk_data]   Package wordnet is already up-to-date!\n"
     ]
    },
    {
     "data": {
      "text/plain": [
       "True"
      ]
     },
     "execution_count": 152,
     "metadata": {},
     "output_type": "execute_result"
    }
   ],
   "source": [
    "import nltk\n",
    "from nltk.tokenize import RegexpTokenizer\n",
    "from nltk.stem.wordnet import WordNetLemmatizer\n",
    "from nltk.stem.porter import PorterStemmer\n",
    "\n",
    "import rake_nltk\n",
    "from rake_nltk import Rake\n",
    "\n",
    "nltk.download('wordnet')"
   ]
  },
  {
   "cell_type": "code",
   "execution_count": 153,
   "metadata": {},
   "outputs": [],
   "source": [
    "file = open(\"harry potter.txt\",\"r\") "
   ]
  },
  {
   "cell_type": "code",
   "execution_count": 154,
   "metadata": {},
   "outputs": [
    {
     "data": {
      "text/plain": [
       "'“She’s still alive,” said Riddle. “But only just.”Harry stared at him. Tom Riddle had been at Hogwarts fifty years ago, yet here he stood, a weird, misty light shining about him, not a day older than sixteen.“Are you a ghost?” Harry said uncertainly.“A memory,” said Riddle quietly. “Preserved in a diary for fifty years.”He pointed toward the floor near the statue’s giant toes. Lying open there was the little black diary Harry had found in Moaning Myrtle’s bathroom. For a second, Harry wondered how it had got there — but there were more pressing matters to deal with.“You’ve got to help me, Tom,” Harry said, raising Ginny’s head again. “We’ve got to get her out of here. There’s a basilisk… I don’t know where it is, but it could be along any moment…Please, help me.”Riddle didn’t move. Harry, sweating, managed to hoist Ginny half off the floor, and bent to pickup his wand again.But his wand had gone.“Did you see —?”He looked up. Riddle was still watching him — twirling Harry’s wand between his long fingers.“Thanks,” said Harry, stretching out his hand for it.A smile curled the corners of Riddle’s mouth. He continued to stare at Harry, twirling the wand idly.“Listen,” said Harry urgently, his knees sagging with Ginny’s dead weight. “We’ve got to go! If the basilisk comes —”“It won’t come until it is called,” said Riddle calmly.Harry lowered Ginny back onto the floor, unable to hold her up any longer.“What d’you mean?” he said. “Look, give me my wand, I might need it —”Riddle’s smile broadened.“You won’t be needing it,” he said.Harry stared at him. '"
      ]
     },
     "execution_count": 154,
     "metadata": {},
     "output_type": "execute_result"
    }
   ],
   "source": [
    "text = file.readlines()\n",
    "text = text[0]\n",
    "\n",
    "text"
   ]
  },
  {
   "cell_type": "code",
   "execution_count": 145,
   "metadata": {},
   "outputs": [],
   "source": [
    "#sentence = text.split(\".\")[10]\n",
    "\"\"\"sentence = \"He weight the gun in his hand. How much, he thought, does a life weight.  \\\n",
    "            He shot. A quick sound, and a second one right after. The body lied on the \\\n",
    "            floor, as the blood teinted the bathroom floors and the wife screamed. \\\n",
    "            She also screamed 'my baby!' but the satanic baby was already dead. No more would he experience the \\\n",
    "            joys of life.\"\"\"\""
   ]
  },
  {
   "cell_type": "code",
   "execution_count": 146,
   "metadata": {},
   "outputs": [],
   "source": [
    "r = Rake()"
   ]
  },
  {
   "cell_type": "code",
   "execution_count": 155,
   "metadata": {},
   "outputs": [],
   "source": [
    "r.extract_keywords_from_text(text)\n",
    "keywords = r.get_ranked_phrases()"
   ]
  },
  {
   "cell_type": "code",
   "execution_count": 176,
   "metadata": {},
   "outputs": [],
   "source": [
    "lemmatizer = WordNetLemmatizer()\n",
    "tokenizer = RegexpTokenizer(r'\\w+')\n",
    "stemming = PorterStemmer()\n",
    "\n",
    "cleaned_keywords = []\n",
    "#all_keywords = []\n",
    "\n",
    "for k in keywords:\n",
    "    \n",
    "    k_tok = tokenizer.tokenize(k)\n",
    "    \n",
    "    for k_t in k_tok:\n",
    "        k_lem = lemmatizer.lemmatize(k_t, \"v\")    \n",
    "        #k_stem = stemming.stem(k_t)\n",
    "        \n",
    "        #if k_lem != k_stem:\n",
    "        #    all_keywords.append(k_stem)\n",
    "        \n",
    "        cleaned_keywords.append(k_lem)\n",
    "        #all_keywords.append(k_lem)"
   ]
  },
  {
   "cell_type": "code",
   "execution_count": 177,
   "metadata": {},
   "outputs": [
    {
     "data": {
      "text/plain": [
       "['wand',\n",
       " 'idly',\n",
       " 'listen',\n",
       " 'say',\n",
       " 'harry',\n",
       " 'urgently',\n",
       " 'long',\n",
       " 'finger',\n",
       " 'thank',\n",
       " 'say',\n",
       " 'harry',\n",
       " 'ghost',\n",
       " 'harry',\n",
       " 'say',\n",
       " 'uncertainly',\n",
       " 'memory',\n",
       " 'say',\n",
       " 'riddle',\n",
       " 'quietly',\n",
       " 'call',\n",
       " 'say',\n",
       " 'riddle',\n",
       " 'calmly',\n",
       " 'harry',\n",
       " 'lower',\n",
       " 'ginny',\n",
       " 'back',\n",
       " 'onto',\n",
       " 'still',\n",
       " 'alive',\n",
       " 'say',\n",
       " 'riddle',\n",
       " 'tom',\n",
       " 'harry',\n",
       " 'say',\n",
       " 'hogwarts',\n",
       " 'fifty',\n",
       " 'years',\n",
       " 'ago',\n",
       " 'little',\n",
       " 'black',\n",
       " 'diary',\n",
       " 'harry',\n",
       " 'twirl',\n",
       " 'harry',\n",
       " 'fifty',\n",
       " 'years',\n",
       " 'smile',\n",
       " 'broaden',\n",
       " 'harry',\n",
       " 'star',\n",
       " 'hoist',\n",
       " 'ginny',\n",
       " 'half',\n",
       " 'misty',\n",
       " 'light',\n",
       " 'shin',\n",
       " 'raise',\n",
       " 'ginny',\n",
       " 'riddle',\n",
       " 'moment',\n",
       " 'please',\n",
       " 'moan',\n",
       " 'myrtle',\n",
       " 'basilisk',\n",
       " 'come',\n",
       " 'harry',\n",
       " 'star',\n",
       " 'harry',\n",
       " 'wonder',\n",
       " 'tom',\n",
       " 'riddle',\n",
       " 'mean',\n",
       " 'sixteen',\n",
       " 'longer',\n",
       " 'go',\n",
       " 'riddle',\n",
       " 'ginny',\n",
       " 'riddle',\n",
       " 'still',\n",
       " 'watch',\n",
       " 'say',\n",
       " 'basilisk',\n",
       " 'wand',\n",
       " 'statue',\n",
       " 'smile',\n",
       " 'curl',\n",
       " 'harry',\n",
       " 'see',\n",
       " 'press',\n",
       " 'matter',\n",
       " 'point',\n",
       " 'toward',\n",
       " 'might',\n",
       " 'need',\n",
       " 'lie',\n",
       " 'open',\n",
       " 'knees',\n",
       " 'sag',\n",
       " 'giant',\n",
       " 'toe',\n",
       " 'dead',\n",
       " 'weight',\n",
       " 'day',\n",
       " 'older',\n",
       " 'preserve',\n",
       " 'look',\n",
       " 'floor',\n",
       " 'near',\n",
       " 'riddle',\n",
       " 'twirl',\n",
       " 'diary',\n",
       " 'floor',\n",
       " 'yet',\n",
       " 'weird',\n",
       " 'unable',\n",
       " 'sweat',\n",
       " 'stretch',\n",
       " 'stand',\n",
       " 'stare',\n",
       " 'second',\n",
       " 'pickup',\n",
       " 'need',\n",
       " 'move',\n",
       " 'mouth',\n",
       " 'manage',\n",
       " 'look',\n",
       " 'know',\n",
       " 'hold',\n",
       " 'help',\n",
       " 'head',\n",
       " 'hand',\n",
       " 'get',\n",
       " 'go',\n",
       " 'give',\n",
       " 'get',\n",
       " 'find',\n",
       " 'deal',\n",
       " 'could',\n",
       " 'corner',\n",
       " 'continue',\n",
       " 'come',\n",
       " 'bend',\n",
       " 'bathroom',\n",
       " 'along']"
      ]
     },
     "execution_count": 177,
     "metadata": {},
     "output_type": "execute_result"
    }
   ],
   "source": [
    "cleaned_keywords"
   ]
  },
  {
   "cell_type": "code",
   "execution_count": null,
   "metadata": {},
   "outputs": [],
   "source": []
  }
 ],
 "metadata": {
  "kernelspec": {
   "display_name": "Python 3",
   "language": "python",
   "name": "python3"
  },
  "language_info": {
   "codemirror_mode": {
    "name": "ipython",
    "version": 3
   },
   "file_extension": ".py",
   "mimetype": "text/x-python",
   "name": "python",
   "nbconvert_exporter": "python",
   "pygments_lexer": "ipython3",
   "version": "3.7.4"
  }
 },
 "nbformat": 4,
 "nbformat_minor": 2
}
